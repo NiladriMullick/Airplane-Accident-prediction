{
  "nbformat": 4,
  "nbformat_minor": 0,
  "metadata": {
    "colab": {
      "name": "Detect Airplane Accident (Classification problem).ipynb",
      "provenance": []
    },
    "kernelspec": {
      "name": "python3",
      "display_name": "Python 3"
    }
  },
  "cells": [
    {
      "cell_type": "code",
      "metadata": {
        "id": "1CnjVP_HOJqs",
        "colab_type": "code",
        "colab": {}
      },
      "source": [
        "import pandas as pd\n",
        "import numpy as np\n",
        "dt=pd.read_csv(r'train.csv')\n",
        "\n",
        "y=dt['Severity']\n",
        "\n",
        "x=dt.drop(['Accident_ID','Severity'],axis=1)\n",
        "j=pd.get_dummies(x['Accident_Type_Code'])\n",
        "\n",
        "\n",
        "x=pd.concat([x,j],axis=1)\n",
        "\n",
        "\n",
        "x=x.drop(['Accident_Type_Code'],axis=1)\n",
        "x=pd.concat([x[['Safety_Score']]**5,x[['Safety_Score']]**4,x[['Safety_Score']]**3,x[['Safety_Score']]**2,x],axis=1)\n",
        "#x=pd.concat([x[['Violations']]**4,x[['Violations']]**3,x[['Violations']]**2,x],axis=1)\n",
        "#x=pd.concat([x[['Max_Elevation']]**2,x],axis=1)\n",
        "x.shape\n",
        "\n",
        "\n",
        "from sklearn.preprocessing import LabelEncoder\n",
        "from sklearn.preprocessing import OneHotEncoder\n",
        "\n",
        "\n",
        "\n",
        "\n",
        "label_encoder = LabelEncoder()\n",
        "integer_encoded = label_encoder.fit_transform(y)\n",
        "\n",
        "onehot_encoder = OneHotEncoder(sparse=False)\n",
        "integer_encoded = integer_encoded.reshape(len(integer_encoded), 1)\n",
        "onehot_encoded = onehot_encoder.fit_transform(integer_encoded)\n",
        "y=integer_encoded\n",
        "\n",
        "\n",
        "\n",
        "from sklearn.model_selection import train_test_split\n",
        "x_tr,x_ts,y_tr,y_ts=train_test_split(x,y,test_size=0.2)\n",
        "from sklearn.preprocessing import RobustScaler\n",
        "#x_tr=RobustScaler().fit(x_tr).transform(x_tr)\n",
        "#x_ts=RobustScaler().fit(x_ts).transform(x_ts)\n",
        "\n",
        "\n",
        "\n",
        "\n",
        "from sklearn.preprocessing import StandardScaler  # doctest: +SKIP\n",
        "scaler = StandardScaler()  # doctest: +SKIP\n",
        "\n",
        "scaler.fit(x)  # doctest: +SKIP\n",
        "x_tr = scaler.transform(x_tr)\n",
        "x_ts = scaler.transform(x_ts)\n"
      ],
      "execution_count": 0,
      "outputs": []
    },
    {
      "cell_type": "code",
      "metadata": {
        "id": "wZpkNM47OLhn",
        "colab_type": "code",
        "outputId": "e6e00959-a66e-4c4f-c775-d33555e2beac",
        "colab": {
          "base_uri": "https://localhost:8080/",
          "height": 34
        }
      },
      "source": [
        "from sklearn.tree import DecisionTreeClassifier \n",
        "dtree_model = DecisionTreeClassifier(criterion='entropy',max_depth=200,random_state=10,min_samples_split=2) \n",
        "dtree_model.fit(x_tr,y_tr)\n",
        "dtree_model.score(x_ts,y_ts)"
      ],
      "execution_count": 4,
      "outputs": [
        {
          "output_type": "execute_result",
          "data": {
            "text/plain": [
              "0.9275"
            ]
          },
          "metadata": {
            "tags": []
          },
          "execution_count": 4
        }
      ]
    },
    {
      "cell_type": "code",
      "metadata": {
        "id": "rSByrDL6OMVe",
        "colab_type": "code",
        "colab": {}
      },
      "source": [
        "\n",
        "from sklearn.model_selection import GridSearchCV\n",
        "\n",
        "def dtree_grid_search(X,y,nfolds):\n",
        "    #create a dictionary of all values we want to test\n",
        "    param_grid = { 'criterion':['entropy'],'splitter':['best', 'random'],'max_depth': [10,15,50,150,None],'min_samples_leaf': [1,2,3, 4, 5],\n",
        "    'min_samples_split': [2,4,8, 10, 12],'max_features': [None,'log2',2, 3,'auto','sqrt'],'random_state':[0,5,10,2,None]}\n",
        "    # decision tree model\n",
        "    dtree_model=DecisionTreeClassifier()\n",
        "    #use gridsearch to test all values\n",
        "    dtree_gscv = GridSearchCV(dtree_model, param_grid, cv=nfolds,n_jobs=-1)\n",
        "    #fit model to data\n",
        "    dtree_gscv.fit(X, y)\n",
        "    print(dtree_gscv.score(x_ts, y_ts))\n",
        "    print(dtree_gscv.best_params_)"
      ],
      "execution_count": 0,
      "outputs": []
    },
    {
      "cell_type": "code",
      "metadata": {
        "id": "QnXqVazbOMsG",
        "colab_type": "code",
        "outputId": "53071bdf-c88a-4a4e-a632-85f8721d8afe",
        "colab": {
          "base_uri": "https://localhost:8080/",
          "height": 70
        }
      },
      "source": [
        "dtree_grid_search(x_ts,y_ts,5)\n"
      ],
      "execution_count": 6,
      "outputs": [
        {
          "output_type": "stream",
          "text": [
            "0.937\n",
            "{'criterion': 'entropy', 'max_depth': 10, 'max_features': None, 'min_samples_leaf': 4, 'min_samples_split': 12, 'random_state': 0, 'splitter': 'best'}\n"
          ],
          "name": "stdout"
        }
      ]
    },
    {
      "cell_type": "code",
      "metadata": {
        "id": "q-kGWB7FRZUa",
        "colab_type": "code",
        "colab": {}
      },
      "source": [
        ""
      ],
      "execution_count": 0,
      "outputs": []
    },
    {
      "cell_type": "code",
      "metadata": {
        "id": "64yKAvDDZ3hl",
        "colab_type": "code",
        "colab": {}
      },
      "source": [
        ""
      ],
      "execution_count": 0,
      "outputs": []
    },
    {
      "cell_type": "code",
      "metadata": {
        "id": "mZcSAAekV3DY",
        "colab_type": "code",
        "colab": {}
      },
      "source": [
        ""
      ],
      "execution_count": 0,
      "outputs": []
    },
    {
      "cell_type": "code",
      "metadata": {
        "id": "6J5UWAC1X7hr",
        "colab_type": "code",
        "colab": {}
      },
      "source": [
        ""
      ],
      "execution_count": 0,
      "outputs": []
    },
    {
      "cell_type": "code",
      "metadata": {
        "id": "BExmwa-wd6GJ",
        "colab_type": "code",
        "colab": {}
      },
      "source": [
        ""
      ],
      "execution_count": 0,
      "outputs": []
    },
    {
      "cell_type": "code",
      "metadata": {
        "id": "uEM_2xhKd9-q",
        "colab_type": "code",
        "colab": {}
      },
      "source": [
        ""
      ],
      "execution_count": 0,
      "outputs": []
    },
    {
      "cell_type": "code",
      "metadata": {
        "id": "mCh3tRXUeCWK",
        "colab_type": "code",
        "colab": {}
      },
      "source": [
        ""
      ],
      "execution_count": 0,
      "outputs": []
    },
    {
      "cell_type": "code",
      "metadata": {
        "id": "yULksjekekkf",
        "colab_type": "code",
        "colab": {}
      },
      "source": [
        ""
      ],
      "execution_count": 0,
      "outputs": []
    },
    {
      "cell_type": "code",
      "metadata": {
        "id": "fJagxwgfe1jw",
        "colab_type": "code",
        "colab": {}
      },
      "source": [
        ""
      ],
      "execution_count": 0,
      "outputs": []
    },
    {
      "cell_type": "code",
      "metadata": {
        "id": "3q8-q7_ZfGrP",
        "colab_type": "code",
        "colab": {}
      },
      "source": [
        ""
      ],
      "execution_count": 0,
      "outputs": []
    },
    {
      "cell_type": "code",
      "metadata": {
        "id": "806U-d6HhH0D",
        "colab_type": "code",
        "colab": {}
      },
      "source": [
        ""
      ],
      "execution_count": 0,
      "outputs": []
    },
    {
      "cell_type": "code",
      "metadata": {
        "id": "hyw3QTTHjhqs",
        "colab_type": "code",
        "colab": {}
      },
      "source": [
        ""
      ],
      "execution_count": 0,
      "outputs": []
    }
  ]
}